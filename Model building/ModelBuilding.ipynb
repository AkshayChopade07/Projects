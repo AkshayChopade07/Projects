{
  "nbformat": 4,
  "nbformat_minor": 0,
  "metadata": {
    "colab": {
      "name": "ModelBuilding.ipynb",
      "provenance": []
    },
    "kernelspec": {
      "name": "python3",
      "display_name": "Python 3"
    }
  },
  "cells": [
    {
      "cell_type": "markdown",
      "metadata": {
        "id": "LtxtzYgLDxPq"
      },
      "source": [
        "**MODEL** **BUILDING**"
      ]
    },
    {
      "cell_type": "markdown",
      "metadata": {
        "id": "Z2n05jOYD2V_"
      },
      "source": [
        "Libraries Required"
      ]
    },
    {
      "cell_type": "code",
      "metadata": {
        "colab": {
          "base_uri": "https://localhost:8080/"
        },
        "id": "jncRJTinD5t_",
        "outputId": "e78a7b2f-6415-4860-c104-91de5816dea6"
      },
      "source": [
        "import nltk #for building programs for text analysis(The Natural Language Toolkit)\r\n",
        "from nltk.corpus import stopwords #getting the stopwords from nltk corpus function\r\n",
        "import matplotlib.pyplot as plt\r\n",
        "from wordcloud import WordCloud\r\n",
        "import pandas as pd\r\n",
        "import numpy as np\r\n",
        "import re # regular expression, helps us to match or find other strings or sets of strings\r\n",
        "nltk.download('punkt')\r\n",
        "nltk.download('stopwords')\r\n",
        "from nltk import word_tokenize\r\n",
        "nltk.download('wordnet')\r\n",
        "from nltk.corpus import wordnet\r\n",
        "import textblob#perform basic NLP tasks.\r\n",
        "from textblob import TextBlob\r\n",
        "from textblob import Word\r\n",
        "import string \r\n",
        "from sklearn.model_selection import train_test_split\r\n",
        "from sklearn.metrics import classification_report#To get the classification report such as precison,recall(sesitivity),f1 score, support.. \r\n",
        "from sklearn.feature_extraction.text import CountVectorizer#Used to convert collection of text documents to a matrix of token counts.\r\n",
        "from sklearn.metrics import f1_score,accuracy_score\r\n",
        "from sklearn.model_selection import cross_val_score\r\n",
        "from sklearn.metrics import confusion_matrix\r\n",
        "from sklearn.feature_extraction.text import TfidfVectorizer#term frequencey- inverse document frequncy is a numerical statistic that is intended to reflect how important a word is to document in a collecion or corpus"
      ],
      "execution_count": 114,
      "outputs": [
        {
          "output_type": "stream",
          "text": [
            "[nltk_data] Downloading package punkt to /root/nltk_data...\n",
            "[nltk_data]   Package punkt is already up-to-date!\n",
            "[nltk_data] Downloading package stopwords to /root/nltk_data...\n",
            "[nltk_data]   Package stopwords is already up-to-date!\n",
            "[nltk_data] Downloading package wordnet to /root/nltk_data...\n",
            "[nltk_data]   Package wordnet is already up-to-date!\n"
          ],
          "name": "stdout"
        }
      ]
    },
    {
      "cell_type": "markdown",
      "metadata": {
        "id": "qzovm8RyEPSw"
      },
      "source": [
        "Loading the csv file"
      ]
    },
    {
      "cell_type": "code",
      "metadata": {
        "colab": {
          "resources": {
            "http://localhost:8080/nbextensions/google.colab/files.js": {
              "data": "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",
              "ok": true,
              "headers": [
                [
                  "content-type",
                  "application/javascript"
                ]
              ],
              "status": 200,
              "status_text": ""
            }
          },
          "base_uri": "https://localhost:8080/",
          "height": 73
        },
        "id": "cHy-qzLwEB73",
        "outputId": "1e5a81e2-1b98-4c13-c468-b72397781b26"
      },
      "source": [
        "from google.colab import files \r\n",
        "uploaded = files.upload()"
      ],
      "execution_count": 115,
      "outputs": [
        {
          "output_type": "display_data",
          "data": {
            "text/html": [
              "\n",
              "     <input type=\"file\" id=\"files-1b686721-a852-4e71-bd5f-aa298f65510a\" name=\"files[]\" multiple disabled\n",
              "        style=\"border:none\" />\n",
              "     <output id=\"result-1b686721-a852-4e71-bd5f-aa298f65510a\">\n",
              "      Upload widget is only available when the cell has been executed in the\n",
              "      current browser session. Please rerun this cell to enable.\n",
              "      </output>\n",
              "      <script src=\"/nbextensions/google.colab/files.js\"></script> "
            ],
            "text/plain": [
              "<IPython.core.display.HTML object>"
            ]
          },
          "metadata": {
            "tags": []
          }
        },
        {
          "output_type": "stream",
          "text": [
            "Saving Hotel_Reviews_Ratings.csv to Hotel_Reviews_Ratings (2).csv\n"
          ],
          "name": "stdout"
        }
      ]
    },
    {
      "cell_type": "code",
      "metadata": {
        "colab": {
          "base_uri": "https://localhost:8080/",
          "height": 197
        },
        "id": "nqTHeaOiEdDw",
        "outputId": "1948410c-bcc3-4b41-e17f-c78f7f51bcd6"
      },
      "source": [
        "\r\n",
        "hotel=pd.read_csv(\"Hotel_Reviews_Ratings.csv\")#Loading the dataset\r\n",
        "\r\n",
        "hotel.head()"
      ],
      "execution_count": 94,
      "outputs": [
        {
          "output_type": "execute_result",
          "data": {
            "text/html": [
              "<div>\n",
              "<style scoped>\n",
              "    .dataframe tbody tr th:only-of-type {\n",
              "        vertical-align: middle;\n",
              "    }\n",
              "\n",
              "    .dataframe tbody tr th {\n",
              "        vertical-align: top;\n",
              "    }\n",
              "\n",
              "    .dataframe thead th {\n",
              "        text-align: right;\n",
              "    }\n",
              "</style>\n",
              "<table border=\"1\" class=\"dataframe\">\n",
              "  <thead>\n",
              "    <tr style=\"text-align: right;\">\n",
              "      <th></th>\n",
              "      <th>reviews</th>\n",
              "      <th>ratings</th>\n",
              "    </tr>\n",
              "  </thead>\n",
              "  <tbody>\n",
              "    <tr>\n",
              "      <th>0</th>\n",
              "      <td>We have stayed at this excellent hotel before ...</td>\n",
              "      <td>5</td>\n",
              "    </tr>\n",
              "    <tr>\n",
              "      <th>1</th>\n",
              "      <td>We had a fantastic overnight staycation to rec...</td>\n",
              "      <td>5</td>\n",
              "    </tr>\n",
              "    <tr>\n",
              "      <th>2</th>\n",
              "      <td>We chose this hotel for an overnight stay base...</td>\n",
              "      <td>3</td>\n",
              "    </tr>\n",
              "    <tr>\n",
              "      <th>3</th>\n",
              "      <td>Really nice hotel, staff were very helpful and...</td>\n",
              "      <td>5</td>\n",
              "    </tr>\n",
              "    <tr>\n",
              "      <th>4</th>\n",
              "      <td>We stayed here for a week in September and rea...</td>\n",
              "      <td>5</td>\n",
              "    </tr>\n",
              "  </tbody>\n",
              "</table>\n",
              "</div>"
            ],
            "text/plain": [
              "                                             reviews  ratings\n",
              "0  We have stayed at this excellent hotel before ...        5\n",
              "1  We had a fantastic overnight staycation to rec...        5\n",
              "2  We chose this hotel for an overnight stay base...        3\n",
              "3  Really nice hotel, staff were very helpful and...        5\n",
              "4  We stayed here for a week in September and rea...        5"
            ]
          },
          "metadata": {
            "tags": []
          },
          "execution_count": 94
        }
      ]
    },
    {
      "cell_type": "markdown",
      "metadata": {
        "id": "F9KQVBUDEupn"
      },
      "source": [
        "Last 10 observations"
      ]
    },
    {
      "cell_type": "code",
      "metadata": {
        "colab": {
          "base_uri": "https://localhost:8080/",
          "height": 347
        },
        "id": "HqDk0PiYEw9S",
        "outputId": "779d540d-19fb-430b-cc0f-a94340c83efa"
      },
      "source": [
        "hotel.tail(10)"
      ],
      "execution_count": 95,
      "outputs": [
        {
          "output_type": "execute_result",
          "data": {
            "text/html": [
              "<div>\n",
              "<style scoped>\n",
              "    .dataframe tbody tr th:only-of-type {\n",
              "        vertical-align: middle;\n",
              "    }\n",
              "\n",
              "    .dataframe tbody tr th {\n",
              "        vertical-align: top;\n",
              "    }\n",
              "\n",
              "    .dataframe thead th {\n",
              "        text-align: right;\n",
              "    }\n",
              "</style>\n",
              "<table border=\"1\" class=\"dataframe\">\n",
              "  <thead>\n",
              "    <tr style=\"text-align: right;\">\n",
              "      <th></th>\n",
              "      <th>reviews</th>\n",
              "      <th>ratings</th>\n",
              "    </tr>\n",
              "  </thead>\n",
              "  <tbody>\n",
              "    <tr>\n",
              "      <th>1990</th>\n",
              "      <td>Basically, this place should be better than it...</td>\n",
              "      <td>3</td>\n",
              "    </tr>\n",
              "    <tr>\n",
              "      <th>1991</th>\n",
              "      <td>My wife and I spent two nights at the Hotel De...</td>\n",
              "      <td>5</td>\n",
              "    </tr>\n",
              "    <tr>\n",
              "      <th>1992</th>\n",
              "      <td>We stayed for a week between 20-27th July 2012...</td>\n",
              "      <td>3</td>\n",
              "    </tr>\n",
              "    <tr>\n",
              "      <th>1993</th>\n",
              "      <td>Nice hotel with good bars and resteraunts room...</td>\n",
              "      <td>5</td>\n",
              "    </tr>\n",
              "    <tr>\n",
              "      <th>1994</th>\n",
              "      <td>Hotel de France is set back from the main road...</td>\n",
              "      <td>4</td>\n",
              "    </tr>\n",
              "    <tr>\n",
              "      <th>1995</th>\n",
              "      <td>This was our third stay at this lovely hotel a...</td>\n",
              "      <td>5</td>\n",
              "    </tr>\n",
              "    <tr>\n",
              "      <th>1996</th>\n",
              "      <td>We visited in early July and stayed for 5 nigh...</td>\n",
              "      <td>5</td>\n",
              "    </tr>\n",
              "    <tr>\n",
              "      <th>1997</th>\n",
              "      <td>took my wife here for 5 nights, had a spa room...</td>\n",
              "      <td>4</td>\n",
              "    </tr>\n",
              "    <tr>\n",
              "      <th>1998</th>\n",
              "      <td>Booked a double room.  When I arrived, checked...</td>\n",
              "      <td>1</td>\n",
              "    </tr>\n",
              "    <tr>\n",
              "      <th>1999</th>\n",
              "      <td>Great Hotel.  Was there for 3 nights.  Staff w...</td>\n",
              "      <td>5</td>\n",
              "    </tr>\n",
              "  </tbody>\n",
              "</table>\n",
              "</div>"
            ],
            "text/plain": [
              "                                                reviews  ratings\n",
              "1990  Basically, this place should be better than it...        3\n",
              "1991  My wife and I spent two nights at the Hotel De...        5\n",
              "1992  We stayed for a week between 20-27th July 2012...        3\n",
              "1993  Nice hotel with good bars and resteraunts room...        5\n",
              "1994  Hotel de France is set back from the main road...        4\n",
              "1995  This was our third stay at this lovely hotel a...        5\n",
              "1996  We visited in early July and stayed for 5 nigh...        5\n",
              "1997  took my wife here for 5 nights, had a spa room...        4\n",
              "1998  Booked a double room.  When I arrived, checked...        1\n",
              "1999  Great Hotel.  Was there for 3 nights.  Staff w...        5"
            ]
          },
          "metadata": {
            "tags": []
          },
          "execution_count": 95
        }
      ]
    },
    {
      "cell_type": "code",
      "metadata": {
        "id": "Kw9rKbtGE0dz"
      },
      "source": [
        "#Classifiying the rating into positive, Negative, Neutral \r\n",
        "#Rating which is greater than 3 considered as +ve, Less than 3 considered as -ve, And 3 is considered as Neutral.\r\n",
        "Sentiment_Rating = [] \r\n",
        "for value in hotel[\"ratings\"]: \r\n",
        "    if value > 3: \r\n",
        "        Sentiment_Rating.append(1) \r\n",
        "    elif value < 3: \r\n",
        "        Sentiment_Rating.append(2) \r\n",
        "    else: \r\n",
        "        Sentiment_Rating.append(0) "
      ],
      "execution_count": 116,
      "outputs": []
    },
    {
      "cell_type": "code",
      "metadata": {
        "colab": {
          "base_uri": "https://localhost:8080/"
        },
        "id": "Qu4GndeYE58K",
        "outputId": "2df2b793-0786-438f-a5ff-fb4b47bd0c1e"
      },
      "source": [
        "hotel[\"Sentiment_Rating\"] = Sentiment_Rating    #adding the classified column to the dataset\r\n",
        "print(hotel)"
      ],
      "execution_count": 117,
      "outputs": [
        {
          "output_type": "stream",
          "text": [
            "                                                reviews  ...                                            Reviews\n",
            "0     We have stayed at this excellent hotel before ...  ...  stayed excellent hotel hoped stay today howeve...\n",
            "1     We had a fantastic overnight staycation to rec...  ...  fantastic overnight staycation recharge batter...\n",
            "2     We chose this hotel for an overnight stay base...  ...  chose hotel overnight stay based pool facility...\n",
            "3     Really nice hotel, staff were very helpful and...  ...  really nice hotel staff helpful friendly weari...\n",
            "4     We stayed here for a week in September and rea...  ...  stayed week september really enjoyed stay staf...\n",
            "...                                                 ...  ...                                                ...\n",
            "1995  This was our third stay at this lovely hotel a...  ...  third stay lovely hotel would love return staf...\n",
            "1996  We visited in early July and stayed for 5 nigh...  ...  visited early july stayed night returning doub...\n",
            "1997  took my wife here for 5 nights, had a spa room...  ...  took wife night spa room st floor lovely room ...\n",
            "1998  Booked a double room.  When I arrived, checked...  ...  booked double room arrived checked got room tw...\n",
            "1999  Great Hotel.  Was there for 3 nights.  Staff w...  ...  great hotel night staff friendly hotel clean r...\n",
            "\n",
            "[2000 rows x 4 columns]\n"
          ],
          "name": "stdout"
        }
      ]
    },
    {
      "cell_type": "code",
      "metadata": {
        "colab": {
          "base_uri": "https://localhost:8080/",
          "height": 347
        },
        "id": "GCwBne1qFI9Y",
        "outputId": "59d9c6e1-94e9-4928-c0c3-1a5517106d5c"
      },
      "source": [
        "hotel.head(10)\r\n"
      ],
      "execution_count": 98,
      "outputs": [
        {
          "output_type": "execute_result",
          "data": {
            "text/html": [
              "<div>\n",
              "<style scoped>\n",
              "    .dataframe tbody tr th:only-of-type {\n",
              "        vertical-align: middle;\n",
              "    }\n",
              "\n",
              "    .dataframe tbody tr th {\n",
              "        vertical-align: top;\n",
              "    }\n",
              "\n",
              "    .dataframe thead th {\n",
              "        text-align: right;\n",
              "    }\n",
              "</style>\n",
              "<table border=\"1\" class=\"dataframe\">\n",
              "  <thead>\n",
              "    <tr style=\"text-align: right;\">\n",
              "      <th></th>\n",
              "      <th>reviews</th>\n",
              "      <th>ratings</th>\n",
              "      <th>Sentiment_Rating</th>\n",
              "    </tr>\n",
              "  </thead>\n",
              "  <tbody>\n",
              "    <tr>\n",
              "      <th>0</th>\n",
              "      <td>We have stayed at this excellent hotel before ...</td>\n",
              "      <td>5</td>\n",
              "      <td>1</td>\n",
              "    </tr>\n",
              "    <tr>\n",
              "      <th>1</th>\n",
              "      <td>We had a fantastic overnight staycation to rec...</td>\n",
              "      <td>5</td>\n",
              "      <td>1</td>\n",
              "    </tr>\n",
              "    <tr>\n",
              "      <th>2</th>\n",
              "      <td>We chose this hotel for an overnight stay base...</td>\n",
              "      <td>3</td>\n",
              "      <td>0</td>\n",
              "    </tr>\n",
              "    <tr>\n",
              "      <th>3</th>\n",
              "      <td>Really nice hotel, staff were very helpful and...</td>\n",
              "      <td>5</td>\n",
              "      <td>1</td>\n",
              "    </tr>\n",
              "    <tr>\n",
              "      <th>4</th>\n",
              "      <td>We stayed here for a week in September and rea...</td>\n",
              "      <td>5</td>\n",
              "      <td>1</td>\n",
              "    </tr>\n",
              "    <tr>\n",
              "      <th>5</th>\n",
              "      <td>During the Covid 19 crisis the trick for hotel...</td>\n",
              "      <td>5</td>\n",
              "      <td>1</td>\n",
              "    </tr>\n",
              "    <tr>\n",
              "      <th>6</th>\n",
              "      <td>Stayed at this hotel 5 times in 7 months for b...</td>\n",
              "      <td>5</td>\n",
              "      <td>1</td>\n",
              "    </tr>\n",
              "    <tr>\n",
              "      <th>7</th>\n",
              "      <td>This hotel offered outstanding service from st...</td>\n",
              "      <td>5</td>\n",
              "      <td>1</td>\n",
              "    </tr>\n",
              "    <tr>\n",
              "      <th>8</th>\n",
              "      <td>We stayed for a week in July and wasn't disapp...</td>\n",
              "      <td>5</td>\n",
              "      <td>1</td>\n",
              "    </tr>\n",
              "    <tr>\n",
              "      <th>9</th>\n",
              "      <td>14 of us spent the most wonderful afternoon at...</td>\n",
              "      <td>5</td>\n",
              "      <td>1</td>\n",
              "    </tr>\n",
              "  </tbody>\n",
              "</table>\n",
              "</div>"
            ],
            "text/plain": [
              "                                             reviews  ratings  Sentiment_Rating\n",
              "0  We have stayed at this excellent hotel before ...        5                 1\n",
              "1  We had a fantastic overnight staycation to rec...        5                 1\n",
              "2  We chose this hotel for an overnight stay base...        3                 0\n",
              "3  Really nice hotel, staff were very helpful and...        5                 1\n",
              "4  We stayed here for a week in September and rea...        5                 1\n",
              "5  During the Covid 19 crisis the trick for hotel...        5                 1\n",
              "6  Stayed at this hotel 5 times in 7 months for b...        5                 1\n",
              "7  This hotel offered outstanding service from st...        5                 1\n",
              "8  We stayed for a week in July and wasn't disapp...        5                 1\n",
              "9  14 of us spent the most wonderful afternoon at...        5                 1"
            ]
          },
          "metadata": {
            "tags": []
          },
          "execution_count": 98
        }
      ]
    },
    {
      "cell_type": "code",
      "metadata": {
        "colab": {
          "base_uri": "https://localhost:8080/"
        },
        "id": "s3qKuqR8FKkf",
        "outputId": "ce7d0e25-6f5e-4c47-f3a6-d406205e558f"
      },
      "source": [
        "hotel['Sentiment_Rating'].value_counts()#counting the positve and negative, Neutral reviews\r\n"
      ],
      "execution_count": 118,
      "outputs": [
        {
          "output_type": "execute_result",
          "data": {
            "text/plain": [
              "1    1769\n",
              "0     172\n",
              "2      59\n",
              "Name: Sentiment_Rating, dtype: int64"
            ]
          },
          "metadata": {
            "tags": []
          },
          "execution_count": 118
        }
      ]
    },
    {
      "cell_type": "code",
      "metadata": {
        "colab": {
          "base_uri": "https://localhost:8080/",
          "height": 280
        },
        "id": "EcWKreAsFPV_",
        "outputId": "26c50ab3-0db9-413b-dbab-23be7cd71b7a"
      },
      "source": [
        "hotel['Sentiment_Rating'].value_counts().plot.bar()"
      ],
      "execution_count": 11,
      "outputs": [
        {
          "output_type": "execute_result",
          "data": {
            "text/plain": [
              "<matplotlib.axes._subplots.AxesSubplot at 0x7fc78fed8650>"
            ]
          },
          "metadata": {
            "tags": []
          },
          "execution_count": 11
        },
        {
          "output_type": "display_data",
          "data": {
            "image/png": "[encoded data removed]",
            "text/plain": [
              "<Figure size 432x288 with 1 Axes>"
            ]
          },
          "metadata": {
            "tags": [],
            "needs_background": "light"
          }
        }
      ]
    },
    {
      "cell_type": "markdown",
      "metadata": {
        "id": "d-egvNi1Faqe"
      },
      "source": [
        "#we can say there are 1769 positive reviews and 59 negatives reviews, 172 Neutral reviews.\r\n"
      ]
    },
    {
      "cell_type": "markdown",
      "metadata": {
        "id": "owuOKkCSFkvX"
      },
      "source": [
        "#                                 preprocessing the reviews######################\r\n"
      ]
    },
    {
      "cell_type": "code",
      "metadata": {
        "id": "taUCpPW2Ffw2"
      },
      "source": [
        "\r\n",
        "#converting the review to lower case\r\n",
        "hotel['Reviews']= hotel['reviews'].apply(lambda x: \" \".join(word.lower() for word in x.split()))\r\n",
        "\r\n",
        "#removing the punctuations from the reviews\r\n",
        "hotel['Reviews']=hotel['Reviews'].apply(lambda x:''.join([i for i in x  if i not in string.punctuation]))\r\n",
        "\r\n",
        "#removing the numericals from the reviews\r\n",
        "hotel['Reviews']=hotel['Reviews'].str.replace('[0-9]','')\r\n",
        "\r\n",
        "#removing all the stopwords from the reviews\r\n",
        "stop_words=stopwords.words('english')\r\n",
        "hotel['Reviews']=hotel['Reviews'].apply(lambda x: \" \".join(word for word in x.split() if word not in stop_words))\r\n",
        "\r\n",
        "#Applying Lemmitaization to the reviews\r\n",
        "hotel['Reviews']= hotel['Reviews'].apply(lambda x: \" \".join([Word(word).lemmatize() for word in x.split()]))\r\n",
        "#removing the unwanted symbols from the reviews\r\n",
        "pattern = r\"((?<=^)|(?<= )).((?=$)|(?= ))\"\r\n",
        "hotel['Reviews']= hotel['Reviews'].apply(lambda x:(re.sub(pattern, '',x).strip()))"
      ],
      "execution_count": 119,
      "outputs": []
    },
    {
      "cell_type": "markdown",
      "metadata": {
        "id": "qTTIOTtmGCz_"
      },
      "source": [
        "###USING COUNTVECTORIZER###\r\n"
      ]
    },
    {
      "cell_type": "code",
      "metadata": {
        "id": "_6vz-RFLF_TI"
      },
      "source": [
        "from sklearn.feature_extraction.text import CountVectorizer\r\n",
        "# Fit the CountVectorizer to the training data\r\n",
        "vect = CountVectorizer().fit(hotel.Reviews)\r\n",
        "# transform the documents in the training data to a document-term matrix\r\n",
        "vectorized = vect.transform(hotel.Reviews).toarray()"
      ],
      "execution_count": 101,
      "outputs": []
    },
    {
      "cell_type": "code",
      "metadata": {
        "colab": {
          "base_uri": "https://localhost:8080/"
        },
        "id": "W97Puq3_GP8g",
        "outputId": "3265cb0a-7344-4d6a-b624-ca2a787ac5ff"
      },
      "source": [
        "#Applying the smoting technique to level the imbalanced scenario.\r\n",
        "#pip install imblearn\r\n",
        "from imblearn.over_sampling import SMOTE \r\n",
        "over_sample= SMOTE(random_state= 50, sampling_strategy= \"all\")\r\n",
        "X_over,Y_over=over_sample.fit_sample(vectorized,hotel[\"Sentiment_Rating\"])"
      ],
      "execution_count": 102,
      "outputs": [
        {
          "output_type": "stream",
          "text": [
            "/usr/local/lib/python3.7/dist-packages/sklearn/utils/deprecation.py:87: FutureWarning: Function safe_indexing is deprecated; safe_indexing is deprecated in version 0.22 and will be removed in version 0.24.\n",
            "  warnings.warn(msg, category=FutureWarning)\n",
            "/usr/local/lib/python3.7/dist-packages/sklearn/utils/deprecation.py:87: FutureWarning: Function safe_indexing is deprecated; safe_indexing is deprecated in version 0.22 and will be removed in version 0.24.\n",
            "  warnings.warn(msg, category=FutureWarning)\n"
          ],
          "name": "stderr"
        }
      ]
    },
    {
      "cell_type": "code",
      "metadata": {
        "id": "Xia0T1HdGT-m"
      },
      "source": [
        "#spliting the data's into train and test\r\n",
        "Xtrain,Xtest,Ytrain,Ytest= train_test_split(X_over,Y_over,test_size = 0.2,random_state=0)"
      ],
      "execution_count": 103,
      "outputs": []
    },
    {
      "cell_type": "markdown",
      "metadata": {
        "id": "cx6MmF4dGeIk"
      },
      "source": [
        "############ MODEL BUILDING ############\r\n"
      ]
    },
    {
      "cell_type": "markdown",
      "metadata": {
        "id": "_c1jrKnPGnfv"
      },
      "source": [
        "##Model-1 using Logistic regression##\r\n"
      ]
    },
    {
      "cell_type": "markdown",
      "metadata": {
        "id": "k7SgNSrxNS25"
      },
      "source": [
        "Training the model and predicting the result"
      ]
    },
    {
      "cell_type": "code",
      "metadata": {
        "colab": {
          "base_uri": "https://localhost:8080/"
        },
        "id": "ehMZwxy8GfHs",
        "outputId": "65f9d693-4808-4e65-cc43-b3dd5895d77a"
      },
      "source": [
        "from sklearn.linear_model import LogisticRegression\r\n",
        "Logistic_model= LogisticRegression()#building the model\r\n",
        "Logistic_model.fit(Xtrain,Ytrain)\r\n",
        "predict_logistic= Logistic_model.predict(Xtest)"
      ],
      "execution_count": 104,
      "outputs": [
        {
          "output_type": "stream",
          "text": [
            "/usr/local/lib/python3.7/dist-packages/sklearn/linear_model/_logistic.py:940: ConvergenceWarning: lbfgs failed to converge (status=1):\n",
            "STOP: TOTAL NO. of ITERATIONS REACHED LIMIT.\n",
            "\n",
            "Increase the number of iterations (max_iter) or scale the data as shown in:\n",
            "    https://scikit-learn.org/stable/modules/preprocessing.html\n",
            "Please also refer to the documentation for alternative solver options:\n",
            "    https://scikit-learn.org/stable/modules/linear_model.html#logistic-regression\n",
            "  extra_warning_msg=_LOGISTIC_SOLVER_CONVERGENCE_MSG)\n"
          ],
          "name": "stderr"
        }
      ]
    },
    {
      "cell_type": "code",
      "metadata": {
        "colab": {
          "base_uri": "https://localhost:8080/"
        },
        "id": "hVFiFZVTHYsX",
        "outputId": "a762318c-6e41-4efd-9273-1a97c6c5897f"
      },
      "source": [
        "print(\"accuracy_score: \", f1_score(Ytest,predict_logistic,average='micro'))"
      ],
      "execution_count": 105,
      "outputs": [
        {
          "output_type": "stream",
          "text": [
            "accuracy_score:  0.9303201506591338\n"
          ],
          "name": "stdout"
        }
      ]
    },
    {
      "cell_type": "code",
      "metadata": {
        "colab": {
          "base_uri": "https://localhost:8080/"
        },
        "id": "bPnbO3eXGrCP",
        "outputId": "8a32be3b-6318-4df6-cd98-bd3401142fe9"
      },
      "source": [
        "#classification Report\r\n",
        "print(\"Classification Report \\n\\n\\n\", classification_report(Ytest,predict_logistic))\r\n"
      ],
      "execution_count": 106,
      "outputs": [
        {
          "output_type": "stream",
          "text": [
            "Classification Report \n",
            "\n",
            "\n",
            "               precision    recall  f1-score   support\n",
            "\n",
            "           0       0.92      0.88      0.90       358\n",
            "           1       0.93      0.93      0.93       352\n",
            "           2       0.94      0.98      0.96       352\n",
            "\n",
            "    accuracy                           0.93      1062\n",
            "   macro avg       0.93      0.93      0.93      1062\n",
            "weighted avg       0.93      0.93      0.93      1062\n",
            "\n"
          ],
          "name": "stdout"
        }
      ]
    },
    {
      "cell_type": "markdown",
      "metadata": {
        "id": "lwqOYOmRHxko"
      },
      "source": [
        "confusion_matrix"
      ]
    },
    {
      "cell_type": "code",
      "metadata": {
        "colab": {
          "base_uri": "https://localhost:8080/"
        },
        "id": "aZscZKgUG0YY",
        "outputId": "f1c442a2-d1e6-4020-d3bf-e2820157008e"
      },
      "source": [
        "from sklearn.metrics import confusion_matrix\r\n",
        "confusion_matrix = confusion_matrix(Ytest,predict_logistic)\r\n",
        "print (confusion_matrix)"
      ],
      "execution_count": 107,
      "outputs": [
        {
          "output_type": "stream",
          "text": [
            "[[316  23  19]\n",
            " [ 22 326   4]\n",
            " [  4   2 346]]\n"
          ],
          "name": "stdout"
        }
      ]
    },
    {
      "cell_type": "markdown",
      "metadata": {
        "id": "-B0odrTxHNrF"
      },
      "source": [
        "###Model2 using Naive bayes###\r\n"
      ]
    },
    {
      "cell_type": "markdown",
      "metadata": {
        "id": "a3PMidXJNPq4"
      },
      "source": [
        "Training the model and predicting the result"
      ]
    },
    {
      "cell_type": "code",
      "metadata": {
        "id": "M18_Vg54HKzl"
      },
      "source": [
        "from sklearn.naive_bayes import MultinomialNB\r\n",
        "# fit the training dataset on the NB classifier\r\n",
        "Naive = MultinomialNB()\r\n",
        "Naive.fit(Xtrain,Ytrain)\r\n",
        "# predict the labels on validation dataset\r\n",
        "predictions_NB = Naive.predict(Xtest)"
      ],
      "execution_count": 108,
      "outputs": []
    },
    {
      "cell_type": "code",
      "metadata": {
        "colab": {
          "base_uri": "https://localhost:8080/"
        },
        "id": "2CJyr5N6HeJY",
        "outputId": "ff2d3e8a-7705-4e84-f449-94ae16dcbb4c"
      },
      "source": [
        "print(\"accuracy_score: \", f1_score(Ytest,predictions_NB,average='micro'))\r\n"
      ],
      "execution_count": 109,
      "outputs": [
        {
          "output_type": "stream",
          "text": [
            "accuracy_score:  0.8898305084745762\n"
          ],
          "name": "stdout"
        }
      ]
    },
    {
      "cell_type": "code",
      "metadata": {
        "colab": {
          "base_uri": "https://localhost:8080/"
        },
        "id": "OKe5tZyIHg9Q",
        "outputId": "42524c6d-e3fa-485b-c670-ea398096fedf"
      },
      "source": [
        "#Classification Report\r\n",
        "print(\"Classification Report \\n\\n\\n\", classification_report(Ytest,predictions_NB))\r\n"
      ],
      "execution_count": 110,
      "outputs": [
        {
          "output_type": "stream",
          "text": [
            "Classification Report \n",
            "\n",
            "\n",
            "               precision    recall  f1-score   support\n",
            "\n",
            "           0       0.91      0.81      0.86       358\n",
            "           1       0.84      0.96      0.90       352\n",
            "           2       0.93      0.90      0.92       352\n",
            "\n",
            "    accuracy                           0.89      1062\n",
            "   macro avg       0.89      0.89      0.89      1062\n",
            "weighted avg       0.89      0.89      0.89      1062\n",
            "\n"
          ],
          "name": "stdout"
        }
      ]
    },
    {
      "cell_type": "markdown",
      "metadata": {
        "id": "JGAIipwgHv4E"
      },
      "source": [
        "confusion_matrix"
      ]
    },
    {
      "cell_type": "code",
      "metadata": {
        "colab": {
          "base_uri": "https://localhost:8080/"
        },
        "id": "Mi1NnH1KHpVk",
        "outputId": "c8435bbd-5c73-40e2-d644-375cdc40e859"
      },
      "source": [
        "from sklearn.metrics import confusion_matrix\r\n",
        "confusion_matrix = confusion_matrix(Ytest,predictions_NB)\r\n",
        "print (confusion_matrix)"
      ],
      "execution_count": 26,
      "outputs": [
        {
          "output_type": "stream",
          "text": [
            "[[289  46  23]\n",
            " [ 13 339   0]\n",
            " [ 16  19 317]]\n"
          ],
          "name": "stdout"
        }
      ]
    },
    {
      "cell_type": "markdown",
      "metadata": {
        "id": "Bi3tVRt1H3T3"
      },
      "source": [
        "###Model3 using support vector machine###\r\n"
      ]
    },
    {
      "cell_type": "markdown",
      "metadata": {
        "id": "6VdMAjIuNNhH"
      },
      "source": [
        "Training the model and predicting the result"
      ]
    },
    {
      "cell_type": "code",
      "metadata": {
        "id": "etwUJ0NTHzMu"
      },
      "source": [
        "# Classifier - Algorithm - SVM\r\n",
        "# fit the training dataset on the classifier\r\n",
        "from sklearn import svm\r\n",
        "from sklearn.svm import LinearSVC\r\n",
        "SVM = svm.SVC(C=1.0, kernel='linear', degree=3, gamma='auto')\r\n",
        "SVM.fit(Xtrain,Ytrain)\r\n",
        "# predict the labels on validation dataset\r\n",
        "predictions_SVM = SVM.predict(Xtest)"
      ],
      "execution_count": 27,
      "outputs": []
    },
    {
      "cell_type": "code",
      "metadata": {
        "colab": {
          "base_uri": "https://localhost:8080/"
        },
        "id": "aZeazBOQIHDA",
        "outputId": "1784d8de-8b01-46e7-e374-e86d34802c6d"
      },
      "source": [
        "print(\"accuracy_score: \", f1_score(Ytest,predictions_SVM,average='micro'))\r\n"
      ],
      "execution_count": 28,
      "outputs": [
        {
          "output_type": "stream",
          "text": [
            "accuracy_score:  0.9256120527306968\n"
          ],
          "name": "stdout"
        }
      ]
    },
    {
      "cell_type": "code",
      "metadata": {
        "colab": {
          "base_uri": "https://localhost:8080/"
        },
        "id": "UL-p1lRpINjP",
        "outputId": "21437b01-79df-43b0-c209-2b8bdc37c9a8"
      },
      "source": [
        "#Classification Report\r\n",
        "print(\"Classification Report \\n\\n\\n\", classification_report(Ytest,predictions_SVM))\r\n"
      ],
      "execution_count": 29,
      "outputs": [
        {
          "output_type": "stream",
          "text": [
            "Classification Report \n",
            "\n",
            "\n",
            "               precision    recall  f1-score   support\n",
            "\n",
            "           0       0.91      0.88      0.89       358\n",
            "           1       0.92      0.92      0.92       352\n",
            "           2       0.94      0.98      0.96       352\n",
            "\n",
            "    accuracy                           0.93      1062\n",
            "   macro avg       0.93      0.93      0.93      1062\n",
            "weighted avg       0.93      0.93      0.93      1062\n",
            "\n"
          ],
          "name": "stdout"
        }
      ]
    },
    {
      "cell_type": "markdown",
      "metadata": {
        "id": "alBA9E6VIimo"
      },
      "source": [
        "confusion_matrix"
      ]
    },
    {
      "cell_type": "code",
      "metadata": {
        "colab": {
          "base_uri": "https://localhost:8080/"
        },
        "id": "5Kv0niBhIedf",
        "outputId": "514e9e12-4eb4-45ca-dc23-63ff55fc9498"
      },
      "source": [
        "from sklearn.metrics import confusion_matrix\r\n",
        "confusion_matrix = confusion_matrix(Ytest,predictions_SVM)\r\n",
        "print (confusion_matrix)"
      ],
      "execution_count": 31,
      "outputs": [
        {
          "output_type": "stream",
          "text": [
            "[[315  24  19]\n",
            " [ 26 324   2]\n",
            " [  5   3 344]]\n"
          ],
          "name": "stdout"
        }
      ]
    },
    {
      "cell_type": "markdown",
      "metadata": {
        "id": "dNHz6xVQIo9A"
      },
      "source": [
        "###Model4 using Decision Tree###\r\n"
      ]
    },
    {
      "cell_type": "markdown",
      "metadata": {
        "id": "GVbzaPkzNJ0H"
      },
      "source": [
        "Training the model and predicting the result"
      ]
    },
    {
      "cell_type": "code",
      "metadata": {
        "id": "R21YaL5XIlIf"
      },
      "source": [
        "from sklearn.tree import DecisionTreeClassifier\r\n",
        "DecisionTree_classifier = DecisionTreeClassifier(criterion = 'entropy')\r\n",
        "DecisionTree_classifier.fit(Xtrain, Ytrain)\r\n",
        "Prediction_DC=DecisionTree_classifier.predict(Xtest)"
      ],
      "execution_count": 32,
      "outputs": []
    },
    {
      "cell_type": "code",
      "metadata": {
        "colab": {
          "base_uri": "https://localhost:8080/"
        },
        "id": "tK0zK1asIqL7",
        "outputId": "1d0b60b4-548c-42dc-bf2c-9f1bd2dd6ecd"
      },
      "source": [
        "print(\"accuracy_score: \", f1_score(Ytest,Prediction_DC,average='micro'))\r\n"
      ],
      "execution_count": 33,
      "outputs": [
        {
          "output_type": "stream",
          "text": [
            "accuracy_score:  0.8870056497175142\n"
          ],
          "name": "stdout"
        }
      ]
    },
    {
      "cell_type": "code",
      "metadata": {
        "colab": {
          "base_uri": "https://localhost:8080/"
        },
        "id": "eYoufyCEItpQ",
        "outputId": "f3d190e0-43f5-4eb6-ba12-599fa639726b"
      },
      "source": [
        "#Classification Report\r\n",
        "print(\"Classification Report \\n\\n\\n\", classification_report(Ytest,Prediction_DC))\r\n"
      ],
      "execution_count": 34,
      "outputs": [
        {
          "output_type": "stream",
          "text": [
            "Classification Report \n",
            "\n",
            "\n",
            "               precision    recall  f1-score   support\n",
            "\n",
            "           0       0.83      0.90      0.87       358\n",
            "           1       0.92      0.79      0.85       352\n",
            "           2       0.92      0.97      0.94       352\n",
            "\n",
            "    accuracy                           0.89      1062\n",
            "   macro avg       0.89      0.89      0.89      1062\n",
            "weighted avg       0.89      0.89      0.89      1062\n",
            "\n"
          ],
          "name": "stdout"
        }
      ]
    },
    {
      "cell_type": "markdown",
      "metadata": {
        "id": "RH8NCujqI0wf"
      },
      "source": [
        "confusion_matrix"
      ]
    },
    {
      "cell_type": "code",
      "metadata": {
        "colab": {
          "base_uri": "https://localhost:8080/"
        },
        "id": "UXCZDujnIxi_",
        "outputId": "61138173-b94a-40fe-c5f5-61f1158833a6"
      },
      "source": [
        "from sklearn.metrics import confusion_matrix\r\n",
        "confusion_matrix = confusion_matrix(Ytest,Prediction_DC)\r\n",
        "print (confusion_matrix)"
      ],
      "execution_count": 35,
      "outputs": [
        {
          "output_type": "stream",
          "text": [
            "[[323  21  14]\n",
            " [ 59 277  16]\n",
            " [  6   4 342]]\n"
          ],
          "name": "stdout"
        }
      ]
    },
    {
      "cell_type": "markdown",
      "metadata": {
        "id": "0pOmdp4BI7sn"
      },
      "source": [
        "###Model5 using Random forest Classifier###\r\n"
      ]
    },
    {
      "cell_type": "markdown",
      "metadata": {
        "id": "gU1xQlTCNGTY"
      },
      "source": [
        "Training the model and predicting the result"
      ]
    },
    {
      "cell_type": "code",
      "metadata": {
        "id": "xy03R6k8I4sn"
      },
      "source": [
        "from sklearn.ensemble import RandomForestClassifier\r\n",
        "rf = RandomForestClassifier(n_jobs=2,oob_score=True,n_estimators=1000,criterion=\"entropy\")\r\n",
        "rf.fit(Xtrain,Ytrain)\r\n",
        "Rf_Prediction=rf.predict(Xtest)"
      ],
      "execution_count": 36,
      "outputs": []
    },
    {
      "cell_type": "code",
      "metadata": {
        "colab": {
          "base_uri": "https://localhost:8080/"
        },
        "id": "MPm1z0cNJBBW",
        "outputId": "bed2ce99-c16a-4a86-8419-cd6c845ed8d6"
      },
      "source": [
        "print(\"accuracy_score: \", f1_score(Ytest,Rf_Prediction,average='micro'))"
      ],
      "execution_count": 37,
      "outputs": [
        {
          "output_type": "stream",
          "text": [
            "accuracy_score:  0.9491525423728814\n"
          ],
          "name": "stdout"
        }
      ]
    },
    {
      "cell_type": "code",
      "metadata": {
        "colab": {
          "base_uri": "https://localhost:8080/"
        },
        "id": "qpYh9lnyJCMn",
        "outputId": "53dac319-0f75-4ff9-a2b7-c5905420203b"
      },
      "source": [
        "#Classification Report\r\n",
        "print(\"Classification Report \\n\\n\\n\", classification_report(Ytest,Rf_Prediction))"
      ],
      "execution_count": 38,
      "outputs": [
        {
          "output_type": "stream",
          "text": [
            "Classification Report \n",
            "\n",
            "\n",
            "               precision    recall  f1-score   support\n",
            "\n",
            "           0       0.94      0.91      0.93       358\n",
            "           1       0.93      0.95      0.94       352\n",
            "           2       0.98      0.99      0.98       352\n",
            "\n",
            "    accuracy                           0.95      1062\n",
            "   macro avg       0.95      0.95      0.95      1062\n",
            "weighted avg       0.95      0.95      0.95      1062\n",
            "\n"
          ],
          "name": "stdout"
        }
      ]
    },
    {
      "cell_type": "markdown",
      "metadata": {
        "id": "mWOlsJsdJLtQ"
      },
      "source": [
        "confusion_matrix"
      ]
    },
    {
      "cell_type": "code",
      "metadata": {
        "colab": {
          "base_uri": "https://localhost:8080/"
        },
        "id": "Ko7lcXe8JKfn",
        "outputId": "b71a778d-b66f-44f7-e94f-43225076f9fd"
      },
      "source": [
        "from sklearn.metrics import confusion_matrix\r\n",
        "confusion_matrix = confusion_matrix(Ytest,Rf_Prediction)\r\n",
        "print (confusion_matrix)"
      ],
      "execution_count": 39,
      "outputs": [
        {
          "output_type": "stream",
          "text": [
            "[[326  24   8]\n",
            " [ 17 335   0]\n",
            " [  2   3 347]]\n"
          ],
          "name": "stdout"
        }
      ]
    },
    {
      "cell_type": "markdown",
      "metadata": {
        "id": "qsGGfKYSJZCZ"
      },
      "source": [
        "###Model6 using KNN###\r\n"
      ]
    },
    {
      "cell_type": "markdown",
      "metadata": {
        "id": "593YBwQONEDw"
      },
      "source": [
        "Training the model and predicting the result"
      ]
    },
    {
      "cell_type": "code",
      "metadata": {
        "id": "UypIXU5fJUq-"
      },
      "source": [
        "from sklearn.neighbors import KNeighborsClassifier as KNC\r\n",
        "# for 3 nearest neighbours \r\n",
        "neigh = KNC(n_neighbors= 3)\r\n",
        "neigh.fit(Xtrain,Ytrain)\r\n",
        "Knn_Prediction=neigh.predict(Xtest)"
      ],
      "execution_count": 40,
      "outputs": []
    },
    {
      "cell_type": "code",
      "metadata": {
        "colab": {
          "base_uri": "https://localhost:8080/"
        },
        "id": "bSZ-Fx8tJf0M",
        "outputId": "6b41e641-2818-49f3-863c-421abe4f6290"
      },
      "source": [
        "print(\"accuracy_score: \", f1_score(Ytest,Knn_Prediction,average='micro'))"
      ],
      "execution_count": 41,
      "outputs": [
        {
          "output_type": "stream",
          "text": [
            "accuracy_score:  0.6506591337099812\n"
          ],
          "name": "stdout"
        }
      ]
    },
    {
      "cell_type": "code",
      "metadata": {
        "colab": {
          "base_uri": "https://localhost:8080/"
        },
        "id": "QcYYY7k7Jie1",
        "outputId": "8279223a-80b5-4bff-9e09-4486dd441831"
      },
      "source": [
        "print(\"Classification Report \\n\\n\\n\", classification_report(Ytest,Knn_Prediction))"
      ],
      "execution_count": 42,
      "outputs": [
        {
          "output_type": "stream",
          "text": [
            "Classification Report \n",
            "\n",
            "\n",
            "               precision    recall  f1-score   support\n",
            "\n",
            "           0       0.55      0.94      0.70       358\n",
            "           1       1.00      0.01      0.02       352\n",
            "           2       0.78      0.99      0.87       352\n",
            "\n",
            "    accuracy                           0.65      1062\n",
            "   macro avg       0.78      0.65      0.53      1062\n",
            "weighted avg       0.78      0.65      0.53      1062\n",
            "\n"
          ],
          "name": "stdout"
        }
      ]
    },
    {
      "cell_type": "markdown",
      "metadata": {
        "id": "d4upt2SVJn2c"
      },
      "source": [
        "confusion_matrix"
      ]
    },
    {
      "cell_type": "code",
      "metadata": {
        "colab": {
          "base_uri": "https://localhost:8080/"
        },
        "id": "YRK5CyqBJjfN",
        "outputId": "9cde3c84-7ae2-4915-ca4c-55e0e7db91dd"
      },
      "source": [
        "from sklearn.metrics import confusion_matrix\r\n",
        "confusion_matrix = confusion_matrix(Ytest,Knn_Prediction)\r\n",
        "print (confusion_matrix)"
      ],
      "execution_count": 44,
      "outputs": [
        {
          "output_type": "stream",
          "text": [
            "[[338   0  20]\n",
            " [270   4  78]\n",
            " [  3   0 349]]\n"
          ],
          "name": "stdout"
        }
      ]
    },
    {
      "cell_type": "markdown",
      "metadata": {
        "id": "kh8TDSb5JtDX"
      },
      "source": [
        "###MODEL7 USING XG BOOST###\r\n"
      ]
    },
    {
      "cell_type": "markdown",
      "metadata": {
        "id": "z81s9rRhNB5Q"
      },
      "source": [
        "Training the model and predicting the result"
      ]
    },
    {
      "cell_type": "code",
      "metadata": {
        "id": "JAdsy44RJufC"
      },
      "source": [
        "#pip install xgboost\r\n",
        "from xgboost import XGBClassifier\r\n",
        "Xg=XGBClassifier()\r\n",
        "Xg.fit(Xtrain,Ytrain)\r\n",
        "XG_prediction=Xg.predict(Xtest)"
      ],
      "execution_count": 45,
      "outputs": []
    },
    {
      "cell_type": "code",
      "metadata": {
        "colab": {
          "base_uri": "https://localhost:8080/"
        },
        "id": "toqtFKybJzX_",
        "outputId": "387c6d78-bf6f-4db9-c260-a44ba5cfaf5d"
      },
      "source": [
        "print(\"accuracy_score: \", f1_score(Ytest,XG_prediction,average='micro'))"
      ],
      "execution_count": 46,
      "outputs": [
        {
          "output_type": "stream",
          "text": [
            "accuracy_score:  0.8832391713747646\n"
          ],
          "name": "stdout"
        }
      ]
    },
    {
      "cell_type": "code",
      "metadata": {
        "colab": {
          "base_uri": "https://localhost:8080/"
        },
        "id": "ixaewZHPJ0S6",
        "outputId": "9b6abc8c-3b90-4327-82df-64038711b74d"
      },
      "source": [
        "#Classification Report\r\n",
        "print(\"Classification Report \\n\\n\\n\", classification_report(Ytest,XG_prediction))"
      ],
      "execution_count": 47,
      "outputs": [
        {
          "output_type": "stream",
          "text": [
            "Classification Report \n",
            "\n",
            "\n",
            "               precision    recall  f1-score   support\n",
            "\n",
            "           0       0.89      0.79      0.84       358\n",
            "           1       0.90      0.91      0.90       352\n",
            "           2       0.86      0.95      0.91       352\n",
            "\n",
            "    accuracy                           0.88      1062\n",
            "   macro avg       0.88      0.88      0.88      1062\n",
            "weighted avg       0.88      0.88      0.88      1062\n",
            "\n"
          ],
          "name": "stdout"
        }
      ]
    },
    {
      "cell_type": "markdown",
      "metadata": {
        "id": "Birws7tjJ_he"
      },
      "source": [
        "confusion_matrix"
      ]
    },
    {
      "cell_type": "code",
      "metadata": {
        "colab": {
          "base_uri": "https://localhost:8080/"
        },
        "id": "iiqR6JAHJ6MY",
        "outputId": "f872062b-3529-4c2d-e911-210060aaf61f"
      },
      "source": [
        "from sklearn.metrics import confusion_matrix\r\n",
        "confusion_matrix = confusion_matrix(Ytest,XG_prediction)\r\n",
        "print (confusion_matrix)"
      ],
      "execution_count": 48,
      "outputs": [
        {
          "output_type": "stream",
          "text": [
            "[[284  30  44]\n",
            " [ 24 319   9]\n",
            " [ 11   6 335]]\n"
          ],
          "name": "stdout"
        }
      ]
    },
    {
      "cell_type": "markdown",
      "metadata": {
        "id": "zuxN4SxoKIvP"
      },
      "source": [
        "###Model8 using Randomized searhCV with logistic regression###\r\n"
      ]
    },
    {
      "cell_type": "markdown",
      "metadata": {
        "id": "PQRS_72_NAHX"
      },
      "source": [
        "Training the model and predicting the result"
      ]
    },
    {
      "cell_type": "code",
      "metadata": {
        "id": "aoqU-cnvKBBw"
      },
      "source": [
        "from sklearn.linear_model import LogisticRegression\r\n",
        "from sklearn.model_selection import RandomizedSearchCV\r\n",
        "from scipy.stats import uniform\r\n",
        "logistic = LogisticRegression(solver='saga', tol=1e-2, max_iter=200,random_state=0)\r\n",
        "distributions = dict(C=uniform(loc=0, scale=4),penalty=['l2', 'l1'])\r\n",
        "clf = RandomizedSearchCV(logistic, distributions, random_state=0)\r\n",
        "search = clf.fit(Xtrain, Ytrain)\r\n",
        "search_prediction=search.predict(Xtest)"
      ],
      "execution_count": 49,
      "outputs": []
    },
    {
      "cell_type": "code",
      "metadata": {
        "colab": {
          "base_uri": "https://localhost:8080/"
        },
        "id": "3fLMZnOHKR3Q",
        "outputId": "95bac6ec-7245-4041-b255-b5ee0bd61ea5"
      },
      "source": [
        "print(\"accuracy_score: \", f1_score(Ytest,search_prediction,average='micro'))\r\n"
      ],
      "execution_count": 50,
      "outputs": [
        {
          "output_type": "stream",
          "text": [
            "accuracy_score:  0.9246704331450094\n"
          ],
          "name": "stdout"
        }
      ]
    },
    {
      "cell_type": "code",
      "metadata": {
        "colab": {
          "base_uri": "https://localhost:8080/"
        },
        "id": "6zaJLT05KUeH",
        "outputId": "5cf4416c-8b5e-4e4d-d614-b6e8f2e7e282"
      },
      "source": [
        "#Classification Report\r\n",
        "print(\"Classification Report \\n\\n\\n\", classification_report(Ytest,search_prediction))\r\n"
      ],
      "execution_count": 51,
      "outputs": [
        {
          "output_type": "stream",
          "text": [
            "Classification Report \n",
            "\n",
            "\n",
            "               precision    recall  f1-score   support\n",
            "\n",
            "           0       0.92      0.87      0.89       358\n",
            "           1       0.92      0.93      0.93       352\n",
            "           2       0.93      0.97      0.95       352\n",
            "\n",
            "    accuracy                           0.92      1062\n",
            "   macro avg       0.92      0.92      0.92      1062\n",
            "weighted avg       0.92      0.92      0.92      1062\n",
            "\n"
          ],
          "name": "stdout"
        }
      ]
    },
    {
      "cell_type": "markdown",
      "metadata": {
        "id": "PIZTh21aKcOo"
      },
      "source": [
        "confusion_matrix"
      ]
    },
    {
      "cell_type": "code",
      "metadata": {
        "colab": {
          "base_uri": "https://localhost:8080/"
        },
        "id": "sqPyTJ3ZKYm-",
        "outputId": "2c3f70ea-c00a-4b39-e6f8-38629678057c"
      },
      "source": [
        "from sklearn.metrics import confusion_matrix\r\n",
        "confusion_matrix = confusion_matrix(Ytest,search_prediction)\r\n",
        "print (confusion_matrix)"
      ],
      "execution_count": 52,
      "outputs": [
        {
          "output_type": "stream",
          "text": [
            "[[312  25  21]\n",
            " [ 20 328   4]\n",
            " [  8   2 342]]\n"
          ],
          "name": "stdout"
        }
      ]
    },
    {
      "cell_type": "markdown",
      "metadata": {
        "id": "GiZPJ70pLzy4"
      },
      "source": [
        "###Model-9 using TFIDF vectorizer with Multinomial Naive bayes###\r\n"
      ]
    },
    {
      "cell_type": "code",
      "metadata": {
        "id": "yvhUVV1ySvpS"
      },
      "source": [
        "from sklearn.feature_extraction.text import TfidfVectorizer#term frequencey- inverse document frequncy is a numerical statistic that is intended to reflect how important a word is to document in a collecion or corpus\r\n",
        "# Fit the TfidfVectorizer to the training data\r\n",
        "Tfidf = TfidfVectorizer().fit(hotel.Reviews)\r\n",
        "# transform the documents in the training data to a document-term matrix\r\n",
        "Tfidf_vect = Tfidf.transform(hotel.Reviews).toarray()"
      ],
      "execution_count": 120,
      "outputs": []
    },
    {
      "cell_type": "code",
      "metadata": {
        "colab": {
          "base_uri": "https://localhost:8080/"
        },
        "id": "YYmNkOYxT_Xr",
        "outputId": "94055d4d-5a7b-410f-ac47-aaa4f5a2efe9"
      },
      "source": [
        "#Applying the smoting technique to level the imbalanced scenario.\r\n",
        "#pip install imblearn\r\n",
        "from imblearn.over_sampling import SMOTE \r\n",
        "over_sample= SMOTE(random_state= 50, sampling_strategy= \"all\")\r\n",
        "X_over,Y_over=over_sample.fit_sample(Tfidf_vect,hotel[\"Sentiment_Rating\"])"
      ],
      "execution_count": 121,
      "outputs": [
        {
          "output_type": "stream",
          "text": [
            "/usr/local/lib/python3.7/dist-packages/sklearn/utils/deprecation.py:87: FutureWarning: Function safe_indexing is deprecated; safe_indexing is deprecated in version 0.22 and will be removed in version 0.24.\n",
            "  warnings.warn(msg, category=FutureWarning)\n",
            "/usr/local/lib/python3.7/dist-packages/sklearn/utils/deprecation.py:87: FutureWarning: Function safe_indexing is deprecated; safe_indexing is deprecated in version 0.22 and will be removed in version 0.24.\n",
            "  warnings.warn(msg, category=FutureWarning)\n"
          ],
          "name": "stderr"
        }
      ]
    },
    {
      "cell_type": "code",
      "metadata": {
        "id": "0QoZk6-1VfdQ"
      },
      "source": [
        "#spliting the data's into train and test\r\n",
        "Xtrain,Xtest,Ytrain,Ytest= train_test_split(X_over,Y_over,test_size = 0.2,random_state=0)"
      ],
      "execution_count": 122,
      "outputs": []
    },
    {
      "cell_type": "markdown",
      "metadata": {
        "id": "1ASVDvHjUUjj"
      },
      "source": [
        "Training the model and predicting the result\r\n"
      ]
    },
    {
      "cell_type": "code",
      "metadata": {
        "id": "93i94dClUFBv"
      },
      "source": [
        "Naive = MultinomialNB()\r\n",
        "Naive.fit(Xtrain,Ytrain)\r\n",
        "# predict the labels on validation dataset\r\n",
        "predictions_NB_Tfidf = Naive.predict(Xtest)"
      ],
      "execution_count": 123,
      "outputs": []
    },
    {
      "cell_type": "code",
      "metadata": {
        "colab": {
          "base_uri": "https://localhost:8080/"
        },
        "id": "F63FSR72L-vA",
        "outputId": "2b6608a1-849b-4b37-ebbd-020424e5faab"
      },
      "source": [
        "print(\"accuracy_score: \", f1_score(Ytest,predictions_NB_Tfidf,average='micro'))\r\n"
      ],
      "execution_count": 124,
      "outputs": [
        {
          "output_type": "stream",
          "text": [
            "accuracy_score:  0.9708097928436912\n"
          ],
          "name": "stdout"
        }
      ]
    },
    {
      "cell_type": "code",
      "metadata": {
        "colab": {
          "base_uri": "https://localhost:8080/"
        },
        "id": "6FXy2ZZSMBqI",
        "outputId": "dab01446-ca57-43fd-ce1b-edd497be9b3d"
      },
      "source": [
        "#Classification Report\r\n",
        "print(\"Classification Report \\n\\n\\n\", classification_report(Ytest,predictions_NB_Tfidf))"
      ],
      "execution_count": 125,
      "outputs": [
        {
          "output_type": "stream",
          "text": [
            "Classification Report \n",
            "\n",
            "\n",
            "               precision    recall  f1-score   support\n",
            "\n",
            "           0       0.93      0.99      0.96       358\n",
            "           1       0.99      0.92      0.95       352\n",
            "           2       0.99      1.00      0.99       352\n",
            "\n",
            "    accuracy                           0.97      1062\n",
            "   macro avg       0.97      0.97      0.97      1062\n",
            "weighted avg       0.97      0.97      0.97      1062\n",
            "\n"
          ],
          "name": "stdout"
        }
      ]
    },
    {
      "cell_type": "markdown",
      "metadata": {
        "id": "wmPr32kgMJoC"
      },
      "source": [
        "confusion_matrix"
      ]
    },
    {
      "cell_type": "code",
      "metadata": {
        "colab": {
          "base_uri": "https://localhost:8080/"
        },
        "id": "BXBakBVJMFCe",
        "outputId": "119edc1b-2fe6-4564-a50e-9b1584e3328b"
      },
      "source": [
        "from sklearn.metrics import confusion_matrix\r\n",
        "confusion_matrix = confusion_matrix(Ytest,predictions_NB_Tfidf)\r\n",
        "print (confusion_matrix)"
      ],
      "execution_count": 126,
      "outputs": [
        {
          "output_type": "stream",
          "text": [
            "[[356   2   0]\n",
            " [ 25 323   4]\n",
            " [  0   0 352]]\n"
          ],
          "name": "stdout"
        }
      ]
    },
    {
      "cell_type": "markdown",
      "metadata": {
        "id": "nwqYUEMWMQWB"
      },
      "source": [
        "###Model-10 Using Tfidf with Logistic regression###\r\n"
      ]
    },
    {
      "cell_type": "markdown",
      "metadata": {
        "id": "IpPlffpgMnVa"
      },
      "source": [
        "Training the model and predicting the result"
      ]
    },
    {
      "cell_type": "code",
      "metadata": {
        "id": "ynwu5o3GMLkC"
      },
      "source": [
        "from sklearn.linear_model import LogisticRegression\r\n",
        "Logistic_model_tfidf= LogisticRegression()#building the model\r\n",
        "Logistic_model_tfidf.fit(Xtrain,Ytrain)\r\n",
        "predict_logistic_tfidf= Logistic_model_tfidf.predict(Xtest)"
      ],
      "execution_count": 88,
      "outputs": []
    },
    {
      "cell_type": "code",
      "metadata": {
        "colab": {
          "base_uri": "https://localhost:8080/"
        },
        "id": "QLcYNQnLMRPK",
        "outputId": "2ffc66a9-2e32-4e3b-833e-555886203b86"
      },
      "source": [
        "print(\"accuracy_score: \", f1_score(Ytest,predict_logistic_tfidf,average='micro'))"
      ],
      "execution_count": 89,
      "outputs": [
        {
          "output_type": "stream",
          "text": [
            "accuracy_score:  0.980225988700565\n"
          ],
          "name": "stdout"
        }
      ]
    },
    {
      "cell_type": "code",
      "metadata": {
        "colab": {
          "base_uri": "https://localhost:8080/"
        },
        "id": "w431SQmyMUVa",
        "outputId": "4c50ffc5-4268-497e-94bd-79c2b973cb67"
      },
      "source": [
        "#Classification Report\r\n",
        "print(\"Classification Report \\n\\n\\n\", classification_report(Ytest,predict_logistic_tfidf))"
      ],
      "execution_count": 90,
      "outputs": [
        {
          "output_type": "stream",
          "text": [
            "Classification Report \n",
            "\n",
            "\n",
            "               precision    recall  f1-score   support\n",
            "\n",
            "           0       0.95      1.00      0.98       358\n",
            "           1       1.00      0.94      0.97       352\n",
            "           2       0.99      1.00      1.00       352\n",
            "\n",
            "    accuracy                           0.98      1062\n",
            "   macro avg       0.98      0.98      0.98      1062\n",
            "weighted avg       0.98      0.98      0.98      1062\n",
            "\n"
          ],
          "name": "stdout"
        }
      ]
    },
    {
      "cell_type": "markdown",
      "metadata": {
        "id": "emmpTYKVMhhu"
      },
      "source": [
        "confusion_matrix"
      ]
    },
    {
      "cell_type": "code",
      "metadata": {
        "colab": {
          "base_uri": "https://localhost:8080/"
        },
        "id": "XqDlbL4mMZVz",
        "outputId": "6318e7ba-7706-4af5-b26f-0c9997b15248"
      },
      "source": [
        "from sklearn.metrics import confusion_matrix\r\n",
        "confusion_matrix = confusion_matrix(Ytest,predict_logistic_tfidf)\r\n",
        "print (confusion_matrix)"
      ],
      "execution_count": 91,
      "outputs": [
        {
          "output_type": "stream",
          "text": [
            "[[358   0   0]\n",
            " [ 18 331   3]\n",
            " [  0   0 352]]\n"
          ],
          "name": "stdout"
        }
      ]
    },
    {
      "cell_type": "markdown",
      "metadata": {
        "id": "AAXGN6QrbfoQ"
      },
      "source": [
        "Model-11 using Tfidf with RandomForest Classifier"
      ]
    },
    {
      "cell_type": "code",
      "metadata": {
        "id": "b8BhDlsYXjOX"
      },
      "source": [
        "from sklearn.ensemble import RandomForestClassifier\r\n",
        "rf = RandomForestClassifier(n_jobs=2,oob_score=True,n_estimators=1000,criterion=\"entropy\")\r\n",
        "rf.fit(Xtrain,Ytrain)\r\n",
        "Rf_Prediction_tfidf=rf.predict(Xtest)"
      ],
      "execution_count": 130,
      "outputs": []
    },
    {
      "cell_type": "code",
      "metadata": {
        "colab": {
          "base_uri": "https://localhost:8080/"
        },
        "id": "h96nhAzLbyoo",
        "outputId": "9bbf6a6d-4346-4a46-95a6-d525a8e3ee83"
      },
      "source": [
        "print(\"accuracy_score: \", f1_score(Ytest,Rf_Prediction_tfidf,average='micro'))"
      ],
      "execution_count": 132,
      "outputs": [
        {
          "output_type": "stream",
          "text": [
            "accuracy_score:  0.9839924670433146\n"
          ],
          "name": "stdout"
        }
      ]
    },
    {
      "cell_type": "code",
      "metadata": {
        "colab": {
          "base_uri": "https://localhost:8080/"
        },
        "id": "FWu7rZyxcOEV",
        "outputId": "0a4909c4-dbc2-4955-f8e7-e4b5afeed631"
      },
      "source": [
        "#Classification Report\r\n",
        "print(\"Classification Report \\n\\n\\n\", classification_report(Ytest,Rf_Prediction_tfidf))"
      ],
      "execution_count": 133,
      "outputs": [
        {
          "output_type": "stream",
          "text": [
            "Classification Report \n",
            "\n",
            "\n",
            "               precision    recall  f1-score   support\n",
            "\n",
            "           0       1.00      0.96      0.98       358\n",
            "           1       0.96      1.00      0.98       352\n",
            "           2       1.00      1.00      1.00       352\n",
            "\n",
            "    accuracy                           0.98      1062\n",
            "   macro avg       0.98      0.98      0.98      1062\n",
            "weighted avg       0.98      0.98      0.98      1062\n",
            "\n"
          ],
          "name": "stdout"
        }
      ]
    },
    {
      "cell_type": "markdown",
      "metadata": {
        "id": "38iKtMy4cClm"
      },
      "source": [
        "confusion_matrix"
      ]
    },
    {
      "cell_type": "code",
      "metadata": {
        "colab": {
          "base_uri": "https://localhost:8080/"
        },
        "id": "qCIpxyS3b-qa",
        "outputId": "b5907224-5c54-4947-dfca-dd6ada898e8e"
      },
      "source": [
        "from sklearn.metrics import confusion_matrix\r\n",
        "confusion_matrix = confusion_matrix(Ytest,Rf_Prediction_tfidf)\r\n",
        "print (confusion_matrix)"
      ],
      "execution_count": 134,
      "outputs": [
        {
          "output_type": "stream",
          "text": [
            "[[343  15   0]\n",
            " [  1 351   0]\n",
            " [  0   1 351]]\n"
          ],
          "name": "stdout"
        }
      ]
    },
    {
      "cell_type": "markdown",
      "metadata": {
        "id": "wwDDFQdkNwXf"
      },
      "source": [
        "#We have build 11 different models using different algorithms and functions.\r\n",
        "#And we found that Random Forest classifier using Tfidf vectorizer is giving us the best accuracy score which is 98%.\r\n"
      ]
    },
    {
      "cell_type": "markdown",
      "metadata": {
        "id": "x0yQGDOgORcf"
      },
      "source": [
        "**Therefor we finalized our best model as RandomForest** **classifier, Which is Model 11.**"
      ]
    },
    {
      "cell_type": "markdown",
      "metadata": {
        "id": "22B19UwVcrkY"
      },
      "source": [
        ""
      ]
    }
  ]
}